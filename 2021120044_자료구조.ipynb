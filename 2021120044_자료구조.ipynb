{
 "cells": [
  {
   "cell_type": "code",
   "execution_count": 4,
   "id": "3da52cb6-e047-4264-bb06-c71d20a0df42",
   "metadata": {},
   "outputs": [
    {
     "name": "stdin",
     "output_type": "stream",
     "text": [
      "last_name을 입력하시오.  kim\n",
      "first_name을 입력하시오.  nahyun\n"
     ]
    },
    {
     "name": "stdout",
     "output_type": "stream",
     "text": [
      "kimnahyun\n"
     ]
    }
   ],
   "source": [
    "1.\n",
    "last_name = input('last_name을 입력하시오. ')\n",
    "first_name = input('first_name을 입력하시오. ')\n",
    "fullname = last_name + first_name\n",
    "print(fullname)"
   ]
  },
  {
   "cell_type": "code",
   "execution_count": 32,
   "id": "717bacb6-862f-498e-bb69-dd832f961fbe",
   "metadata": {},
   "outputs": [
    {
     "name": "stdin",
     "output_type": "stream",
     "text": [
      "Amount of oil(L) :  8\n"
     ]
    },
    {
     "name": "stdout",
     "output_type": "stream",
     "text": [
      "You need more oil!!\n"
     ]
    }
   ],
   "source": [
    "2.\n",
    "oil = int(input(\"Amount of oil(L) : \"))\n",
    "if oil < 10 :\n",
    "    print(\"You need more oil!!\")\n",
    "else : \n",
    "    print(\"You have enough oil.\")"
   ]
  },
  {
   "cell_type": "code",
   "execution_count": 37,
   "id": "c9d07423-0f3c-42fa-8e10-f6dc4f202cfa",
   "metadata": {},
   "outputs": [
    {
     "name": "stdin",
     "output_type": "stream",
     "text": [
      "Height :  175\n",
      "Weight :  78\n"
     ]
    },
    {
     "name": "stdout",
     "output_type": "stream",
     "text": [
      "BMI : 25.46938775510204, 경도비만입니다.\n"
     ]
    }
   ],
   "source": [
    "3. \n",
    "height = int(input(\"Height : \"))\n",
    "weight = int(input(\"Weight : \"))\n",
    "height/=100\n",
    "BMI = weight/(height*height)\n",
    "if BMI < 20 :\n",
    "    print(\"BMI : {}, 저체중입니다.\".format(BMI))\n",
    "elif BMI >= 20 and BMI <=24 :\n",
    "    print(\"BMI : {}, 정상체중입니다.\".format(BIM))\n",
    "elif BMI >= 25 and BMI <= 30 :\n",
    "    print(\"BMI : {}, 경도비만입니다.\".format(BMI))\n",
    "else :\n",
    "    print(\"BMI : {}, 비만입니다.\".format(BMI))\n",
    "    \n",
    "    "
   ]
  },
  {
   "cell_type": "code",
   "execution_count": 4,
   "id": "b9f4e69f-7b78-41e9-ae26-2a38aa08fe04",
   "metadata": {},
   "outputs": [
    {
     "name": "stdout",
     "output_type": "stream",
     "text": [
      ">>>\n",
      "나무를 1 번 찍었다.\n",
      "나무를 2 번 찍었다.\n",
      "나무를 3 번 찍었다.\n",
      "나무를 4 번 찍었다.\n",
      "나무를 5 번 찍었다.\n",
      "나무를 6 번 찍었다.\n",
      "나무를 7 번 찍었다.\n",
      "나무를 8 번 찍었다.\n",
      "나무를 9 번 찍었다.\n",
      "나무를 10 번 찍었다.\n",
      "나무가 넘어갔다.\n",
      ">>>\n"
     ]
    }
   ],
   "source": [
    "4. \n",
    "print(\">>>\")\n",
    "n = 1\n",
    "while n <= 10 :\n",
    "    print(\"나무를\" , n, \"번 찍었다.\")\n",
    "    if n == 10 :\n",
    "        print(\"나무가 넘어갔다.\")\n",
    "    n+=1\n",
    "print(\">>>\")"
   ]
  },
  {
   "cell_type": "code",
   "execution_count": 14,
   "id": "a38cae10-1660-4f9c-858a-0c4fb191f7b6",
   "metadata": {},
   "outputs": [
    {
     "name": "stdin",
     "output_type": "stream",
     "text": [
      "숫자를 입력하시오.  1\n",
      "숫자를 입력하시오.  2\n",
      "숫자를 입력하시오.  3\n",
      "숫자를 입력하시오.  4\n",
      "숫자를 입력하시오.  5\n",
      "숫자를 입력하시오.  0\n"
     ]
    },
    {
     "name": "stdout",
     "output_type": "stream",
     "text": [
      "15\n"
     ]
    }
   ],
   "source": [
    "5. \n",
    "sum = 0\n",
    "\n",
    "while True :\n",
    "    n = int(input(\"숫자를 입력하시오. \"))\n",
    "    if n == 0 : \n",
    "            break\n",
    "    sum += n\n",
    "print(sum)\n",
    "    "
   ]
  },
  {
   "cell_type": "code",
   "execution_count": 18,
   "id": "a5611661-3eea-4bad-9fe2-305e5f190b58",
   "metadata": {},
   "outputs": [
    {
     "name": "stdout",
     "output_type": "stream",
     "text": [
      "2 * 1 = 2\n",
      "2 * 2 = 4\n",
      "2 * 3 = 6\n",
      "2 * 4 = 8\n",
      "2 * 5 = 10\n",
      "2 * 6 = 12\n",
      "2 * 7 = 14\n",
      "2 * 8 = 16\n",
      "2 * 9 = 18\n",
      "-------------------\n",
      "3 * 1 = 3\n",
      "3 * 2 = 6\n",
      "3 * 3 = 9\n",
      "3 * 4 = 12\n",
      "3 * 5 = 15\n",
      "3 * 6 = 18\n",
      "3 * 7 = 21\n",
      "3 * 8 = 24\n",
      "3 * 9 = 27\n",
      "-------------------\n",
      "4 * 1 = 4\n",
      "4 * 2 = 8\n",
      "4 * 3 = 12\n",
      "4 * 4 = 16\n",
      "4 * 5 = 20\n",
      "4 * 6 = 24\n",
      "4 * 7 = 28\n",
      "4 * 8 = 32\n",
      "4 * 9 = 36\n",
      "-------------------\n",
      "5 * 1 = 5\n",
      "5 * 2 = 10\n",
      "5 * 3 = 15\n",
      "5 * 4 = 20\n",
      "5 * 5 = 25\n",
      "5 * 6 = 30\n",
      "5 * 7 = 35\n",
      "5 * 8 = 40\n",
      "5 * 9 = 45\n",
      "-------------------\n",
      "6 * 1 = 6\n",
      "6 * 2 = 12\n",
      "6 * 3 = 18\n",
      "6 * 4 = 24\n",
      "6 * 5 = 30\n",
      "6 * 6 = 36\n",
      "6 * 7 = 42\n",
      "6 * 8 = 48\n",
      "6 * 9 = 54\n",
      "-------------------\n",
      "7 * 1 = 7\n",
      "7 * 2 = 14\n",
      "7 * 3 = 21\n",
      "7 * 4 = 28\n",
      "7 * 5 = 35\n",
      "7 * 6 = 42\n",
      "7 * 7 = 49\n",
      "7 * 8 = 56\n",
      "7 * 9 = 63\n",
      "-------------------\n",
      "8 * 1 = 8\n",
      "8 * 2 = 16\n",
      "8 * 3 = 24\n",
      "8 * 4 = 32\n",
      "8 * 5 = 40\n",
      "8 * 6 = 48\n",
      "8 * 7 = 56\n",
      "8 * 8 = 64\n",
      "8 * 9 = 72\n",
      "-------------------\n",
      "9 * 1 = 9\n",
      "9 * 2 = 18\n",
      "9 * 3 = 27\n",
      "9 * 4 = 36\n",
      "9 * 5 = 45\n",
      "9 * 6 = 54\n",
      "9 * 7 = 63\n",
      "9 * 8 = 72\n",
      "9 * 9 = 81\n",
      "-------------------\n"
     ]
    }
   ],
   "source": [
    "6. \n",
    "for i in range(2,10) :\n",
    "    for j in range(1,10) :\n",
    "        print(i, '*', j, '=', i*j )\n",
    "    print(\"-------------------\")"
   ]
  },
  {
   "cell_type": "code",
   "execution_count": 28,
   "id": "18ddd204-5ffb-482a-a804-ead8c75a39b5",
   "metadata": {},
   "outputs": [
    {
     "name": "stdin",
     "output_type": "stream",
     "text": [
      "장소를 입력하시오.  부산\n"
     ]
    },
    {
     "name": "stdout",
     "output_type": "stream",
     "text": [
      "부산행은 30,000원 입니다.\n"
     ]
    }
   ],
   "source": [
    "7. \n",
    "price = {\"춘천\" : \"5,000원\", \"부산\" : \"30,000원\", \"대구\" : \"2,000원\", \"수원\" : \"10,000\"}\n",
    "\n",
    "dtn = input(\"장소를 입력하시오. \")\n",
    "print(dtn, \"행은 \", price[dtn], \" 입니다.\", sep='')\n"
   ]
  },
  {
   "cell_type": "code",
   "execution_count": null,
   "id": "8ce4b865-f31a-4a69-b9bb-43b23a027dae",
   "metadata": {},
   "outputs": [],
   "source": []
  }
 ],
 "metadata": {
  "kernelspec": {
   "display_name": "Python 3 (ipykernel)",
   "language": "python",
   "name": "python3"
  },
  "language_info": {
   "codemirror_mode": {
    "name": "ipython",
    "version": 3
   },
   "file_extension": ".py",
   "mimetype": "text/x-python",
   "name": "python",
   "nbconvert_exporter": "python",
   "pygments_lexer": "ipython3",
   "version": "3.12.2"
  }
 },
 "nbformat": 4,
 "nbformat_minor": 5
}
